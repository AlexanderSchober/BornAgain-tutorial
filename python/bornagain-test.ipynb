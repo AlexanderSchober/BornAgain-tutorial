{
 "cells": [
  {
   "cell_type": "markdown",
   "metadata": {},
   "source": [
    "# Check that the BornAgain python module is installed"
   ]
  },
  {
   "cell_type": "markdown",
   "metadata": {},
   "source": [
    "** Check that we can import the module: **"
   ]
  },
  {
   "cell_type": "code",
   "execution_count": 10,
   "metadata": {
    "collapsed": false
   },
   "outputs": [
    {
     "name": "stdout",
     "output_type": "stream",
     "text": [
      "successfully loaded bornagain module\n"
     ]
    }
   ],
   "source": [
    "from __future__ import print_function #needed for python2/python3 compatibility\n",
    "\n",
    "try:\n",
    "    import bornagain as ba\n",
    "    print(\"successfully loaded bornagain module\")\n",
    "except:\n",
    "    print(\"could not import bornagain module!\")\n"
   ]
  },
  {
   "cell_type": "markdown",
   "metadata": {},
   "source": [
    "** Check the version of the bornagain module: **"
   ]
  },
  {
   "cell_type": "code",
   "execution_count": 11,
   "metadata": {
    "collapsed": false
   },
   "outputs": [
    {
     "name": "stdout",
     "output_type": "stream",
     "text": [
      "BornAgain version number is 1.6\n"
     ]
    }
   ],
   "source": [
    "version = str(ba.major_version_number) + '.' + str(ba.minor_version_number)\n",
    "print(\"BornAgain version number is\", version)"
   ]
  }
 ],
 "metadata": {
  "kernelspec": {
   "display_name": "Python 3",
   "language": "python",
   "name": "python3"
  },
  "language_info": {
   "codemirror_mode": {
    "name": "ipython",
    "version": 3
   },
   "file_extension": ".py",
   "mimetype": "text/x-python",
   "name": "python",
   "nbconvert_exporter": "python",
   "pygments_lexer": "ipython3",
   "version": "3.5.2"
  }
 },
 "nbformat": 4,
 "nbformat_minor": 1
}
