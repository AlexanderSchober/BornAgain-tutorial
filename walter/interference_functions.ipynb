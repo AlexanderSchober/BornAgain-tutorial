{
 "cells": [
  {
   "cell_type": "code",
   "execution_count": null,
   "metadata": {},
   "outputs": [],
   "source": [
    "%matplotlib notebook"
   ]
  },
  {
   "cell_type": "markdown",
   "metadata": {},
   "source": [
    "## The interference function"
   ]
  },
  {
   "cell_type": "markdown",
   "metadata": {},
   "source": [
    "In the theory section, we derived the following formula for the interference function:"
   ]
  },
  {
   "cell_type": "markdown",
   "metadata": {},
   "source": [
    "$$ S(\\mathbf q) = 1 + \\frac{1}{N}\\sum_{i\\neq j} \\int dP_{i,j}(\\mathbf{R_1}, \\mathbf{R_2})\\, e^{i\\mathbf q\\cdot (\\mathbf{R_1}-\\mathbf{R_2})}$$"
   ]
  },
  {
   "cell_type": "markdown",
   "metadata": {},
   "source": [
    "If we further assume that the probability density function depends only on the difference $\\mathbf{R_1}-\\mathbf{R_2}$ and we take $\\rho_S = N/S$ to be the mean surface density of the particles, we can write this as:"
   ]
  },
  {
   "cell_type": "markdown",
   "metadata": {},
   "source": [
    "\\begin{align}\n",
    "S(\\mathbf q) &= 1 + \\frac{1}{N}\\sum_{i\\neq j} \\int dP_{i,j}(\\mathbf{R_1} - \\mathbf{R_2})d^3\\mathbf{R_1}\\, \\rho_S e^{i\\mathbf q\\cdot (\\mathbf{R_1}-\\mathbf{R_2})} \\\\\n",
    "&= 1 + \\int dP(\\mathbf R)\\, e^{i\\mathbf q\\cdot \\mathbf R}\n",
    "\\end{align}"
   ]
  },
  {
   "cell_type": "markdown",
   "metadata": {},
   "source": [
    "where $P(\\mathbf R)$ denotes the probability density of finding *any* particle at a distance $\\mathbf R$ from a given particle."
   ]
  },
  {
   "cell_type": "markdown",
   "metadata": {},
   "source": [
    "If we write:\n",
    "$$dP(\\mathbf R) = \\rho_S g(\\mathbf R) d^3\\mathbf R$$"
   ]
  },
  {
   "cell_type": "markdown",
   "metadata": {},
   "source": [
    "the interference function becomes:\n",
    "$$S(\\mathbf q) = 1 + \\rho_S \\int d^3\\mathbf R\\, g(\\mathbf R)\\, e^{i\\mathbf q\\cdot \\mathbf R}$$"
   ]
  },
  {
   "cell_type": "markdown",
   "metadata": {},
   "source": [
    "## Infinite lattices"
   ]
  },
  {
   "cell_type": "markdown",
   "metadata": {},
   "source": [
    "In a infinite one-dimensional lattice with lattice constant $a$, we have"
   ]
  },
  {
   "cell_type": "markdown",
   "metadata": {},
   "source": [
    "\\begin{align}\n",
    "S(\\mathbf q) &= 1 + \\int dP(\\mathbf R)\\, e^{i\\mathbf q\\cdot \\mathbf R} \\\\\n",
    "&=\\frac{2\\pi}{a} \\sum_{n=-\\infty}^\\infty \\delta(q - na_*)\n",
    "\\end{align}\n",
    "with $a_* = 2\\pi/a$ the reciprocal lattice constant."
   ]
  },
  {
   "cell_type": "code",
   "execution_count": null,
   "metadata": {},
   "outputs": [],
   "source": [
    "%run iff_helpers\n",
    "plot_infinite_lattice(2., 20.)"
   ]
  },
  {
   "cell_type": "markdown",
   "metadata": {},
   "source": [
    "## Finite lattices"
   ]
  },
  {
   "cell_type": "markdown",
   "metadata": {},
   "source": [
    "For a finite lattice with $N$ points, we have:\n",
    "\\begin{align}\n",
    "S(\\mathbf q) &= \\frac{1}{N} \\left| \\sum_{n=0}^{N-1} e^{iqna} \\right|^2 \\\\\n",
    "&=\\frac{1}{N} \\frac{\\sin^2(Nqa/2)}{\\sin^2(qa/2)}\n",
    "\\end{align}"
   ]
  },
  {
   "cell_type": "code",
   "execution_count": null,
   "metadata": {},
   "outputs": [],
   "source": [
    "%run iff_helpers\n",
    "plot_finite_lattice(1., 6)"
   ]
  },
  {
   "cell_type": "markdown",
   "metadata": {},
   "source": [
    "## Infinite lattice with decay function"
   ]
  },
  {
   "cell_type": "markdown",
   "metadata": {},
   "source": [
    "If we take\n",
    "$$dP(R) + \\delta(R) = \\sum_{n=-\\infty}^{\\infty} f(na) \\delta(R-na)$$\n",
    "with $f(x)$ a **decay function** that encodes the loss of coherence along long distances, the interference function is:"
   ]
  },
  {
   "cell_type": "markdown",
   "metadata": {},
   "source": [
    "\\begin{align}\n",
    "S(q) &= F(q) \\otimes \\frac{1}{a}\\sum_{n=-\\infty}^\\infty \\delta(q - na_*) \\\\\n",
    "&= \\frac{1}{a}\\sum_{n=-\\infty}^\\infty F(q-na_*)\n",
    "\\end{align}\n",
    "where $\\otimes$ denotes the convolution operator."
   ]
  },
  {
   "cell_type": "markdown",
   "metadata": {},
   "source": [
    "We see that the interference function consists of a smooth function $F(q)$ at each reciprocal lattice point."
   ]
  },
  {
   "cell_type": "code",
   "execution_count": null,
   "metadata": {},
   "outputs": [],
   "source": [
    "%run iff_helpers\n",
    "plot_expdecay_lattice(2.0, 10., 10.)"
   ]
  }
 ],
 "metadata": {
  "kernelspec": {
   "display_name": "Python 3",
   "language": "python",
   "name": "python3"
  },
  "language_info": {
   "codemirror_mode": {
    "name": "ipython",
    "version": 3
   },
   "file_extension": ".py",
   "mimetype": "text/x-python",
   "name": "python",
   "nbconvert_exporter": "python",
   "pygments_lexer": "ipython3",
   "version": "3.7.1"
  }
 },
 "nbformat": 4,
 "nbformat_minor": 2
}
