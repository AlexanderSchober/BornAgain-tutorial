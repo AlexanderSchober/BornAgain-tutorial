{
 "cells": [
  {
   "cell_type": "markdown",
   "metadata": {},
   "source": [
    "# GISAS Theory"
   ]
  },
  {
   "cell_type": "markdown",
   "metadata": {},
   "source": [
    "Only scalar interactions will be considered (non-polarized neutrons and x-rays).\n",
    "\n",
    "A separate section will be dedicated to polarized neutron scattering."
   ]
  },
  {
   "cell_type": "markdown",
   "metadata": {},
   "source": [
    "## 1. General scattering theory"
   ]
  },
  {
   "cell_type": "markdown",
   "metadata": {},
   "source": [
    "### 1.1 Schrödinger equation for elastic neutron scattering"
   ]
  },
  {
   "cell_type": "markdown",
   "metadata": {},
   "source": [
    "The stationary Schrödinger equation:\n",
    "$$\\left[\\frac{\\hbar^2}{2m}\\nabla^2 + E \\right]\\Psi(\\mathbf r) = V(\\mathbf r)\\Psi(\\mathbf r)$$"
   ]
  },
  {
   "cell_type": "markdown",
   "metadata": {},
   "source": [
    "This can be rewritten to explicitly show the presence of the **Helmholtz operator**:\n",
    "$$\\left[\\nabla^2 + k^2 \\right]\\Psi(\\mathbf r) = v(\\mathbf r)\\Psi(\\mathbf r)$$"
   ]
  },
  {
   "cell_type": "markdown",
   "metadata": {},
   "source": [
    "where $k$ is the **wavenumber** and $-v(\\mathbf r)/4\\pi$ is the **scattering lenght density**."
   ]
  },
  {
   "cell_type": "markdown",
   "metadata": {},
   "source": [
    "### 1.2 Green's function method for solving partial differential equations"
   ]
  },
  {
   "cell_type": "markdown",
   "metadata": {},
   "source": [
    "Suppose we need to solve the following inhomogeneous PDE:\n",
    "$$L\\,y(\\mathbf r) = f(\\mathbf r)$$"
   ]
  },
  {
   "cell_type": "markdown",
   "metadata": {},
   "source": [
    "where $L$ is a linear operator. We also assume here that appropriate boundary conditions are given."
   ]
  },
  {
   "cell_type": "markdown",
   "metadata": {},
   "source": [
    "We can first try to solve a version of this PDE without $f(\\mathbf r)$ and use its solution to find $y(\\mathbf r)$ in the presence of $f(\\mathbf r)$.\n",
    "\n",
    "The method of Green's functions does exactly that. The Green's function for the operator $L$ is defined as the solution to:\n",
    "$$L\\,G(\\mathbf r,\\mathbf s) = \\delta(\\mathbf r -\\mathbf s)$$"
   ]
  },
  {
   "cell_type": "markdown",
   "metadata": {},
   "source": [
    "One can then construct a solution $y(\\mathbf r)$ to the original problem:\n",
    "$$y(\\mathbf r) = \\int d^3s \\, G(\\mathbf r,\\mathbf s)f(\\mathbf s)$$"
   ]
  },
  {
   "cell_type": "markdown",
   "metadata": {},
   "source": [
    "This will now satisfy the original PDE, since:\n",
    "$$L\\,y(\\mathbf r) = L\\,\\int d^3s\\, G(\\mathbf r,\\mathbf s)f(\\mathbf s) = \\int\\, d^3s\\, \\delta(\\mathbf r -\\mathbf s)f(\\mathbf s) = f(\\mathbf r)$$"
   ]
  },
  {
   "cell_type": "markdown",
   "metadata": {},
   "source": [
    "The only thing remaining is to ensure that the solution $y(\\mathbf r)$ obeys the right boundary conditions. There is a more general formulation of the Green's function method that automatically creates a solution with the correct boundary conditions. However, often this can be handled in an ad hoc manner, which is what we will also do in the following sections."
   ]
  },
  {
   "cell_type": "markdown",
   "metadata": {},
   "source": [
    "## 2. Born approximation"
   ]
  },
  {
   "cell_type": "markdown",
   "metadata": {},
   "source": [
    "### 2.1 Using the Green's function method for the scattering problem in vacuum"
   ]
  },
  {
   "cell_type": "markdown",
   "metadata": {},
   "source": [
    "When the potential $V(\\mathbf r)$ is non-zero only in a small localized region (where the sample sits), we need to find the Green's function of the Helmholtz operator."
   ]
  },
  {
   "cell_type": "markdown",
   "metadata": {},
   "source": [
    "The Green's function for the Helmholtz operator is explicitly known:\n",
    "$$G_0^+(\\mathbf r,\\mathbf s) = -\\frac{e^{ik \\left\\| \\mathbf r -\\mathbf s \\right\\|}}{4\\pi \\left\\|\\mathbf r -\\mathbf s\\right\\|}$$\n",
    "This the **advanced** or **causal** Green's function. The **retarded** Green's function has a similar expression, but with a negative exponent."
   ]
  },
  {
   "cell_type": "markdown",
   "metadata": {},
   "source": [
    "We can apply here a **far field approximation** by putting the origin of the coordinate system in the sample (where $v(\\mathbf s)\\neq 0$) and assuming that we measure the neutron at a much larger distance $\\mathbf r$:\n",
    "$$G_0^+(\\mathbf r,\\mathbf s) \\approx -\\frac{e^{ikr}\\, e^{-i\\mathbf{k_f} \\cdot \\mathbf s}}{4\\pi r}$$\n",
    "with $\\mathbf{k_f}=k \\mathbf r /r$ the outgoing **wavevector**."
   ]
  },
  {
   "cell_type": "markdown",
   "metadata": {},
   "source": [
    "Using the Green's function. the solution to the Schrödinger equation can be written as:\n",
    "$$\\Psi(\\mathbf r) = \\phi_0(\\mathbf r) + \\int d^3s\\, G_0^+(\\mathbf r, \\mathbf s)v(\\mathbf s)\\Psi(\\mathbf s)$$\n",
    "with $\\phi_0(\\mathbf r)$ a solution of the homogeneous equation (when $v(\\mathbf r)=0$) that will determine the boundary condition satisfied by $\\Psi(\\mathbf r)$."
   ]
  },
  {
   "cell_type": "markdown",
   "metadata": {},
   "source": [
    "Using the far field approximation for the Green's function then produces the **Lippmann-Schwinger equation**:\n",
    "$$\\Psi(\\mathbf r) = \\phi_0(\\mathbf r) -\\frac{e^{ikr}}{4\\pi r}\\int d^3s\\, e^{-i\\mathbf{k_f} \\cdot \\mathbf s} v(\\mathbf s)\\Psi(\\mathbf s)$$"
   ]
  },
  {
   "cell_type": "markdown",
   "metadata": {},
   "source": [
    "At this point, it is interesting to note that the Green's function can be written as\n",
    "$$G_0^+(\\mathbf r,\\mathbf s) \\approx -\\frac{e^{ikr}}{4\\pi r}\\phi_0^*(\\mathbf s; \\mathbf{k_f})$$\n",
    "with $\\phi_0(\\mathbf s; \\mathbf{k_f}) = e^{i\\mathbf{k_f} \\cdot \\mathbf s}$ a solution for the Schrödinger equation with $v(\\mathbf r)=0$."
   ]
  },
  {
   "cell_type": "markdown",
   "metadata": {},
   "source": [
    "### 2.2 The scattering amplitude and differential cross section"
   ]
  },
  {
   "cell_type": "markdown",
   "metadata": {},
   "source": [
    "When the total wavefunction can be written as:\n",
    "$$\\Psi(\\mathbf r) = \\phi_0(\\mathbf r) + f(\\theta,\\varphi)\\frac{e^{ikr}}{r}$$\n",
    "with $\\phi_0(\\mathbf r)$ the solution without scattering, one defines the **scattering amplitude** as the factor $f(\\theta,\\varphi)$, which depends only the angular coordinates."
   ]
  },
  {
   "cell_type": "markdown",
   "metadata": {},
   "source": [
    "Clearly, our solution already has this form and the scattering amplitude is\n",
    "$$f(\\theta,\\varphi) = -\\frac{1}{4\\pi}\\int d^3s\\, e^{-i\\mathbf{k_f} \\cdot \\mathbf s} v(\\mathbf s)\\Psi(\\mathbf s)$$"
   ]
  },
  {
   "cell_type": "markdown",
   "metadata": {},
   "source": [
    "From the expression, it is also clear that the amplitude only depends on the angular coordinates of $\\mathbf r$ (through $\\mathbf{k_f}$)."
   ]
  },
  {
   "cell_type": "markdown",
   "metadata": {},
   "source": [
    "If we calculate the scattered particle flux (normalized to the incoming flux), we get the **differential scattering cross section**:\n",
    "$$\\frac{d\\sigma}{d\\Omega} = \\left|f(\\theta,\\varphi)\\right|^2$$"
   ]
  },
  {
   "cell_type": "markdown",
   "metadata": {},
   "source": [
    "### 2.3 The Born approximation"
   ]
  },
  {
   "cell_type": "markdown",
   "metadata": {},
   "source": [
    "The plane waves $\\phi_0(\\mathbf r) = e^{i\\mathbf{k_i}\\cdot\\mathbf r}$, with $\\|\\mathbf{k_i}\\|=k$, form a basis for the homogeneous solutions, as can be easily seen by plugging them into the original Schrödinger equation with $v(\\mathbf r)=0$."
   ]
  },
  {
   "cell_type": "markdown",
   "metadata": {},
   "source": [
    "If we assume the scattering term is weak, compared to the incoming wave, we obtain a first order approximation of the total wavefunction:\n",
    "$$\\Psi(\\mathbf r) \\approx e^{i\\mathbf{k_i}\\cdot\\mathbf r} -\\frac{e^{ikr}}{4\\pi r}\\int d^3s\\, e^{i\\mathbf q \\cdot \\mathbf s} v(\\mathbf s)$$\n",
    "with $\\mathbf q = \\mathbf{k_i} - \\mathbf{k_f}$ the **wavevector transfer** of the scattering process."
   ]
  },
  {
   "cell_type": "markdown",
   "metadata": {},
   "source": [
    "This gives the scattering amplitude\n",
    "$$f(\\mathbf q) = -\\frac{1}{4\\pi}\\int d^3s\\, e^{i\\mathbf q \\cdot \\mathbf s} v(\\mathbf s)$$\n",
    "which is just the three dimensional Fourier transform of the scattering length density. Accordingly, the differential scattering cross section is:\n",
    "$$\\frac{d\\sigma}{d\\Omega}(\\mathbf q) = \\left|f(\\mathbf q)\\right|^2$$"
   ]
  },
  {
   "cell_type": "markdown",
   "metadata": {},
   "source": [
    "## 3. Distorted wave Born approximation"
   ]
  },
  {
   "cell_type": "markdown",
   "metadata": {},
   "source": [
    "In GISAS experiments, the samples consist of a multilayer structure, particles and possibly rough interfaces between the layers. Because the effect of the multilayer itself on the scattering can be quite strong (eg. total reflection), we must find a different way of calculating the cross section."
   ]
  },
  {
   "cell_type": "markdown",
   "metadata": {},
   "source": [
    "### 3.1 DWBA scattering amplitude for multilayers"
   ]
  },
  {
   "cell_type": "markdown",
   "metadata": {},
   "source": [
    "We can split the scattering potential in two parts: one that is constant in each layer and a part that contains the perturbations:\n",
    "$$v(\\mathbf r) = \\bar v(z) + \\delta v(\\mathbf r)$$\n",
    "where we defined the z-axis to be perpendicular to the sample plane."
   ]
  },
  {
   "cell_type": "markdown",
   "metadata": {},
   "source": [
    "In the **distorted wave Born approximation**, the multilayer structure (without roughness or particles) is directly incorporated into both the Green's functions and the homogeneous solutions to the wave equation."
   ]
  },
  {
   "cell_type": "markdown",
   "metadata": {},
   "source": [
    "More details will be provided in a separate lecture on reflectivity. Here we only provide the result. The homogeneous solutions can be written as a sum of two plane waves in each layer $j$:\n",
    "$$\\phi(\\mathbf r) = \\sum_j A_j^+ e^{i\\mathbf{k_j^+} \\cdot \\mathbf r} + A_j^- e^{i\\mathbf{k_j^-} \\cdot \\mathbf r}$$\n",
    "where the amplitudes $A_j^\\pm$ and wavevectors $\\mathbf{k_j^\\pm}$ are to be determined by solving the boundary conditions. In the expression above, we assume that these amplitudes are only defined inside their corresponding layer (equivalently, one can set $A_j^\\pm = 0$ outside layer $j$)."
   ]
  },
  {
   "cell_type": "markdown",
   "metadata": {},
   "source": [
    "To denote the dependence of these solutions to the boundary condition of the incoming plane wave, we put the incoming wavevector $\\mathbf{k}$ explicitly:\n",
    "$$\\phi(\\mathbf r;\\mathbf k)$$"
   ]
  },
  {
   "cell_type": "markdown",
   "metadata": {},
   "source": [
    "In the region where the beam enters (i.e. above the sample surface), it obeys the following boundary condition:\n",
    "$$\\phi(\\mathbf r;\\mathbf k) = e^{i\\mathbf{k} \\cdot \\mathbf r} + R e^{i\\mathbf{k_0^-} \\cdot \\mathbf r}$$\n",
    "where $R$ is now the familiar reflectivity amplitude."
   ]
  },
  {
   "cell_type": "markdown",
   "metadata": {},
   "source": [
    "For reasons that have to do with the self-adjointness of the Hamiltonian on the Hilbert space of wavefunctions, the far field approximation of the Green's function for the multilayer can also be written as\n",
    "$$G^+(\\mathbf r,\\mathbf s) \\approx -\\frac{e^{ikr}}{4\\pi r}\\phi^*(\\mathbf s; \\mathbf{k_f})$$\n",
    "with $\\phi(\\mathbf s; \\mathbf{k_f})$ a solution for the Schrödinger equation with $\\delta v(\\mathbf r)=0$ and incoming wavevector $\\mathbf{k_f}$."
   ]
  },
  {
   "cell_type": "markdown",
   "metadata": {},
   "source": [
    "This leads to a similar expression of the scattering amplitude as in the case of the Born approximation:\n",
    "$$f(\\theta,\\varphi) = -\\frac{1}{4\\pi}\\int d^3s\\, \\phi^*(\\mathbf s;\\mathbf{k_f}) v(\\mathbf s)\\phi(\\mathbf s;\\mathbf{k_i})$$\n",
    "This is the scattering amplitude in the **distorted wave Born approximation**.\n",
    "Compared to the Born approximation, we now need to consider four different terms for each layer, each consisting of a Fourier transform with a certain combination of wavevectors."
   ]
  },
  {
   "cell_type": "markdown",
   "metadata": {},
   "source": [
    "Because of translation invariance in the in-plane directions, all wavevectors (in each layer $j$) $\\mathbf{k_j^\\pm}$ of a homogeneous solution $\\phi(\\mathbf r;\\mathbf k)$ will have the same projections in the sample plane:\n",
    "$$\\mathbf{k_{jx}^\\pm} = \\mathbf{k_x}$$\n",
    "$$\\mathbf{k_{jy}^\\pm} = \\mathbf{k_y}$$\n",
    "where $\\mathbf{k}$ is again the wavevector of the incoming plane wave."
   ]
  },
  {
   "cell_type": "markdown",
   "metadata": {},
   "source": [
    "### 3.2 Particles inside layers and interference functions"
   ]
  },
  {
   "cell_type": "markdown",
   "metadata": {},
   "source": [
    "### 3.3 Interface roughness"
   ]
  },
  {
   "cell_type": "markdown",
   "metadata": {},
   "source": [
    "## 4. Measured intensity"
   ]
  },
  {
   "cell_type": "code",
   "execution_count": null,
   "metadata": {},
   "outputs": [],
   "source": []
  }
 ],
 "metadata": {
  "kernelspec": {
   "display_name": "Python 3",
   "language": "python",
   "name": "python3"
  },
  "language_info": {
   "codemirror_mode": {
    "name": "ipython",
    "version": 3
   },
   "file_extension": ".py",
   "mimetype": "text/x-python",
   "name": "python",
   "nbconvert_exporter": "python",
   "pygments_lexer": "ipython3",
   "version": "3.7.1"
  }
 },
 "nbformat": 4,
 "nbformat_minor": 2
}
