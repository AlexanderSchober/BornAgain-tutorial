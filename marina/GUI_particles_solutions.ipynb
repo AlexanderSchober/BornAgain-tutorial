{
 "cells": [
  {
   "cell_type": "markdown",
   "metadata": {},
   "source": [
    "# Exercise 1: particle positioning\n",
    "\n",
    "1. Click on the particle in the sample design area. Check $Z$ value in the `Position Offset` field on the right panel. $Z=0$, this is default value.\n",
    "\n",
    "    ![Particle position](img/pex1_sol01.png)\n",
    "\n",
    "    The `3D Viewer` shows, that the particles are on top of the substrate.\n",
    "\n",
    "    ![Particle position 3D](img/pex1_sol05.png)\n",
    "\n",
    "\n",
    "2. Set $Z=10$. Check with the `3D Viewer`: the particles are now flying above the substrate.\n",
    "\n",
    "    ![Particle position 3D](img/pex1_sol06.png)\n",
    "\n",
    "    Switch to `Simulation view` and click `Run simulation` button. You should be able to see the clear difference.\n",
    "\n",
    "    ![Simulation result](img/pex1_sol02.png)\n",
    "    Left: $Z=0$, right: $Z=10$\n",
    "\n",
    "3. Switch back to the `Sample view`. Drag and drop a new layer to the multilayer, place it in the middle, between air and substrate layers. Click on the new layer. Go to the properties on the right pannel and set `Thickness` to be 50 nm. Click on the `Material` to start the `Material editor` widget. Create a new material with $\\delta = 2\\times 10^{-6}$, $\\beta = 1.3\\times 10^{-8}$ and assign it to this layer. \n",
    "\n",
    "4. Disconnect `Particle layout` from the air layer and connect it to the intermediate layer.\n",
    "\n",
    "    ![Add new layer](img/pex1_sol03.png)\n",
    "\n",
    "    Click on the particle and check $Z$ value in the `Position Offset` field on the right panel. $Z=10$ and this value is incorrect. For the particles in the intermediate layer, $Z$ must be $\\leq 0$. `3D Viewer` shows, that particles are not in the intermediate layer, but flying above it.\n",
    "    \n",
    "    ![Particle position 3D](img/pex1_sol07.png)\n",
    "\n",
    "5. Vary $Z$ value in the `Position Offset` field on the right panel:\n",
    "    - if particles are on the bottom of the intermediate layer, $Z=-50$ nm\n",
    "    ![Particle position 3D](img/pex1_sol08.png)\n",
    "    \n",
    "    - if particles are in the middle of the intermediate layer, $Z=-\\frac{50}{2}-\\frac{10}{2}=-30$ nm\n",
    "     ![Particle position 3D](img/pex1_sol09.png)\n",
    "    \n",
    "    - if particles are touching the bottom of the intermediate layer, $Z=-10$ nm.\n",
    "    ![Particle position 3D](img/pex1_sol10.png)\n",
    "    "
   ]
  },
  {
   "cell_type": "code",
   "execution_count": null,
   "metadata": {},
   "outputs": [],
   "source": []
  }
 ],
 "metadata": {
  "kernelspec": {
   "display_name": "Python 3",
   "language": "python",
   "name": "python3"
  },
  "language_info": {
   "codemirror_mode": {
    "name": "ipython",
    "version": 3
   },
   "file_extension": ".py",
   "mimetype": "text/x-python",
   "name": "python",
   "nbconvert_exporter": "python",
   "pygments_lexer": "ipython3",
   "version": "3.7.1"
  }
 },
 "nbformat": 4,
 "nbformat_minor": 2
}
