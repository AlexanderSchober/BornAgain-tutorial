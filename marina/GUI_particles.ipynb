{
 "cells": [
  {
   "cell_type": "markdown",
   "metadata": {},
   "source": [
    "# Particles in BornAgain"
   ]
  },
  {
   "cell_type": "markdown",
   "metadata": {},
   "source": [
    "## Available form factors\n",
    "\n",
    "There are more than 20 particle form factors available in BornAgain GUI.\n",
    "\n",
    "![Available form factors](img/formfactors.jpg)\n",
    "\n",
    "Detailed description of each form factor is available in [BornAgain User Manual](http://apps.jcns.fz-juelich.de/src/BornAgain/BornAgainManual-1.7.2.pdf)."
   ]
  },
  {
   "cell_type": "markdown",
   "metadata": {},
   "source": [
    "## Core-shell particles\n",
    "\n"
   ]
  },
  {
   "cell_type": "markdown",
   "metadata": {},
   "source": [
    "## Particle composition"
   ]
  },
  {
   "cell_type": "markdown",
   "metadata": {},
   "source": [
    "## Local coordinate system\n",
    "\n",
    "While placing particles in layers it is important to know the reference point of the particle and how the coordinate system of the surrounding layer is defined. The local coordinate system for the box is shown below.\n",
    "\n",
    "![Form factor box](img/ffbox.png)\n",
    "\n",
    "Local coordinate system is attached to each particle."
   ]
  },
  {
   "cell_type": "markdown",
   "metadata": {},
   "source": [
    "## Particle positioning\n",
    "\n",
    "Particle position is a position of the local origin in the parent coordinate system. \n",
    "\n",
    "The plot below shows a multi-layer with 3 layers: a semi-infinite ambient layer, a middle layer with a finite thickness and a semi-infinite substrate layer. For each of these 3 layers the $z$-axis is pointing up. For the ambient layer, the $z=0.0$ coordinate corresponds to the interface between ambient and a middle layer. To place a particle in the air layer, normally positive values $z>=0.0$ should be used. For **any other layer** $z=0.0$ corresponds to the top interface. To place a particle in one of such layers, normally negative values $z<=0.0$ should be used. \n",
    "\n",
    "![Particle position](img/positioning.png)\n",
    "\n",
    "**Particle coordinates:**\n",
    "\n",
    "- Particle **A** is flying in the air at 10 nm distance: $z_A = 10$ nm.\n",
    "- Particle **B** is in the ambient layer, sitting right on the interface: $z_B = 0$\n",
    "- Particle **C** is in the middle layer, touching the top interface: $z_C = -H$, where $H$ is a particle height. For sphere $H=2R$, i. e. diameter.\n",
    "- Particle **D** is in the middle layer, right in the center $z=_D -\\frac{d}{2} - \\frac{H}{2}$, where $d$ is the thickness of the middle layer.\n",
    "- Particle **E** is buried in the middle layer, touching the bottom interface: $z_E=-d$.\n",
    "- Particle **F** is buried in the substrate, touching the top interface: $z_F = -H$, where $H$ is a particle height.\n",
    "- Particle **G** is buried in the substrate, the particle's reference point is at a depth of 20nm: $z_G=-20$ nm.\n",
    "\n",
    "See also [BornAgain documentation](https://www.bornagainproject.org/documentation/working-with-python/particle-positioning/) on particle positioning.\n",
    "\n",
    "\n",
    "## 3D Viewer\n",
    "\n",
    "To check whether particle positions are correct, one can use the `3D Viewer` widget. Click on the `3D Viewer` button on the top panel.\n",
    "\n",
    "**Note:** `3D Viewer` will display the **active** part of the sample. This means, that you should click on that part of the sample (particle layout, particle, layer, multilayer) which you want to see in 3D.\n",
    "\n"
   ]
  },
  {
   "cell_type": "markdown",
   "metadata": {},
   "source": [
    "## Exercise 1: particle positioning\n",
    "\n",
    "Open the saved project from **GUI Overview** session. \n",
    "\n",
    "Since we did not set any *interference function*, we need to set the *particle surface density* to get a reasonable 3D view. Click on the `Particle layout` and set the `TotalParticleDensity` on the right panel to 0.0003. This is the number of particles per nm$^2$.\n",
    "\n",
    "![Total particle density](img/pex1_sol04.png)\n",
    "\n",
    "**Hint:** start the `3D Viewer` and click on the multilayer to make it active. This will show you the whole sample in 3D.\n",
    "\n",
    "**Exercise tasks**\n",
    "\n",
    "1. Check the particle position in the air layer. Where are the particles?\n",
    "2. Shift the particles to be 10 nm above the air layer bottom. Compare simulation results with previous simulation.\n",
    "3. Create an intermediate layer with parameters:\n",
    "\t- Material: $\\delta = 2\\times 10^{-6}$, $\\beta = 1.3\\times 10^{-8}$ \n",
    "\t- Thickness = 50 nm\n",
    "4. Attach particle layout to this layer. Check the particle position. Where are the particles now? \n",
    "5. Vary particle positions in the intermediate layer: place particles on the bottom, in the middle, on the top of the layer.\n",
    "\n",
    "*If got stucked, see [solutions](GUI_particles_solutions.ipynb)*"
   ]
  },
  {
   "cell_type": "markdown",
   "metadata": {},
   "source": [
    "## Rotation of particles"
   ]
  },
  {
   "cell_type": "markdown",
   "metadata": {},
   "source": [
    "## Particles with size distribution"
   ]
  },
  {
   "cell_type": "code",
   "execution_count": null,
   "metadata": {},
   "outputs": [],
   "source": []
  }
 ],
 "metadata": {
  "kernelspec": {
   "display_name": "Python 3",
   "language": "python",
   "name": "python3"
  },
  "language_info": {
   "codemirror_mode": {
    "name": "ipython",
    "version": 3
   },
   "file_extension": ".py",
   "mimetype": "text/x-python",
   "name": "python",
   "nbconvert_exporter": "python",
   "pygments_lexer": "ipython3",
   "version": "3.7.1"
  }
 },
 "nbformat": 4,
 "nbformat_minor": 2
}
